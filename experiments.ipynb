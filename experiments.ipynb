{
 "cells": [
  {
   "cell_type": "code",
   "execution_count": null,
   "metadata": {},
   "outputs": [],
   "source": [
    "%load_ext autoreload\n",
    "%autoreload 2\n",
    "\n",
    "from interpret import interpret\n",
    "import src.data as data\n",
    "xml_path = \"asap-dataset/Schubert/Impromptu_op.90_D.899/3/xml_score.musicxml\"\n",
    "midi_path = \"asap-dataset/Schubert/Impromptu_op.90_D.899/3/midi_score.mid\"\n",
    "#data.parse_by_hand(xml_path)\n",
    "score = interpret(midi_path)\n",
    "score.show('midi')"
   ]
  }
 ],
 "metadata": {
  "kernelspec": {
   "display_name": "dm",
   "language": "python",
   "name": "python3"
  },
  "language_info": {
   "codemirror_mode": {
    "name": "ipython",
    "version": 3
   },
   "file_extension": ".py",
   "mimetype": "text/x-python",
   "name": "python",
   "nbconvert_exporter": "python",
   "pygments_lexer": "ipython3",
   "version": "3.10.14"
  }
 },
 "nbformat": 4,
 "nbformat_minor": 2
}
