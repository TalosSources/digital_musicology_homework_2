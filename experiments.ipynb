{
 "cells": [
  {
   "cell_type": "markdown",
   "id": "26dae12f-bfdb-4935-8e4a-cc94b77f5b1e",
   "metadata": {},
   "source": [
    "# Task A"
   ]
  },
  {
   "cell_type": "markdown",
   "id": "d3f18204-16c0-4a72-8304-3e0cd104179e",
   "metadata": {},
   "source": [
    "In this task, we had to create a \"transform\" function which transforms unperformed beats time into a performed version.\n",
    "\n",
    "In other words, given the `midi_score_annotations.txt` and `NAME_annotations.txt`, we need to create a function that transfers first column of the first file into the first column of the second file.\n",
    "\n",
    "For the velocity, we use `*.mid` files and extract velocity from events. \"Beat velocity\" is defined as an average of the velocities of the events close to this beat. Event is close to the beat iff the difference between its onset in score and beat time is smaller than `0.5`. Then we again create a \"transform\" function."
   ]
  },
  {
   "cell_type": "code",
   "execution_count": null,
   "id": "dbf0bff6-58ff-4baf-94e3-7fd827139cf5",
   "metadata": {},
   "outputs": [],
   "source": [
    "%load_ext autoreload\n",
    "%autoreload 2\n",
    "\n",
    "from src.data import *\n",
    "from src.plots import *\n",
    "from src.estimators import *\n",
    "from src.onset_distribution import *\n",
    "\n",
    "import seaborn\n",
    "seaborn.set_style(\"whitegrid\")"
   ]
  },
  {
   "cell_type": "code",
   "execution_count": null,
   "id": "29661b35-71b8-4299-8865-14caf9010b4e",
   "metadata": {},
   "outputs": [],
   "source": [
    "df, json_data = get_dataset_metadata(\"Bach\")"
   ]
  },
  {
   "cell_type": "code",
   "execution_count": null,
   "id": "e6bcd11a-ce70-41f3-af1a-24c7c2a7c785",
   "metadata": {
    "scrolled": true
   },
   "outputs": [],
   "source": [
    "df.head(2)"
   ]
  },
  {
   "cell_type": "code",
   "execution_count": null,
   "id": "97527217-5ce8-44c1-95e4-4faa9eec1236",
   "metadata": {},
   "outputs": [],
   "source": [
    "# for the first time might take up to 5-10 min because of velocity\n",
    "beats_list_dict = get_midi_performance_pairs(df, json_data, \"4/4\")"
   ]
  },
  {
   "cell_type": "code",
   "execution_count": null,
   "id": "ed418e48-52b3-4b09-93d6-abb110e5973d",
   "metadata": {},
   "outputs": [],
   "source": [
    "train_beats_list_dict, test_beats_list_dict = train_test_split(beats_list_dict, test_size=0.2)"
   ]
  },
  {
   "cell_type": "code",
   "execution_count": null,
   "id": "b0a58b3e-2da5-4189-9866-c63c95da0295",
   "metadata": {},
   "outputs": [],
   "source": [
    "print(\"Train / Test:\", len(train_beats_list_dict[\"midi_beats_list\"]), \"/\", len(test_beats_list_dict[\"midi_beats_list\"]))"
   ]
  },
  {
   "cell_type": "code",
   "execution_count": null,
   "id": "b64c0c4c-67a3-4718-87a4-387b2f69dd27",
   "metadata": {},
   "outputs": [],
   "source": [
    "midi_beats_list = test_beats_list_dict[\"midi_beats_list\"]\n",
    "velocity_beats_list = test_beats_list_dict[\"velocity_beats_list\"]\n",
    "performance_beats_list = test_beats_list_dict[\"performance_beats_list\"]\n",
    "perf_velocity_beats_list = test_beats_list_dict[\"perf_velocity_beats_list\"]\n",
    "\n",
    "performance_beats_estimated_list_dict = {}\n",
    "perf_velocity_beats_estimated_list_dict = {}"
   ]
  },
  {
   "cell_type": "code",
   "execution_count": null,
   "id": "c2a27bc6-6c13-433d-9748-2929e0c0080d",
   "metadata": {
    "scrolled": true
   },
   "outputs": [],
   "source": [
    "# random estimate\n",
    "performance_beats_estimated_list, velocity_beats_estimated_list = get_estimator_predictions(train_beats_list_dict,\n",
    "                                                                                            test_beats_list_dict,\n",
    "                                                                                            estimator_type=\"random\")\n",
    "\n",
    "performance_beats_estimated_list_dict[\"random\"] = performance_beats_estimated_list\n",
    "perf_velocity_beats_estimated_list_dict[\"random\"] = velocity_beats_estimated_list"
   ]
  },
  {
   "cell_type": "code",
   "execution_count": null,
   "id": "c295fd16-ae85-4ccc-80e9-8b654f1f179b",
   "metadata": {},
   "outputs": [],
   "source": [
    "# linear estimate\n",
    "performance_beats_estimated_list, velocity_beats_estimated_list = get_estimator_predictions(train_beats_list_dict,\n",
    "                                                                                            test_beats_list_dict,\n",
    "                                                                                            estimator_type=\"linear\")\n",
    "\n",
    "performance_beats_estimated_list_dict[\"linear\"] = performance_beats_estimated_list\n",
    "perf_velocity_beats_estimated_list_dict[\"linear\"] = velocity_beats_estimated_list"
   ]
  },
  {
   "cell_type": "code",
   "execution_count": null,
   "id": "01df8704-256f-4282-93ad-84e7c80fdb70",
   "metadata": {},
   "outputs": [],
   "source": [
    "import warnings\n",
    "import matplotlib.pyplot as plt\n",
    "%matplotlib inline\n",
    "%config InlineBackend.figure_format='retina'\n",
    "\n",
    "warnings.filterwarnings(\"ignore\", category=RuntimeWarning) \n",
    "\n",
    "\n",
    "fig, axes = plt.subplots(1, 2, figsize=(9, 4))\n",
    "axes[0] = plot_average_transfer_function(axes[0], midi_beats_list,\n",
    "                                        midi_beats_list, # unperformed_beats_list\n",
    "                                        performance_beats_list,\n",
    "                                        performance_beats_estimated_list_dict,\n",
    "                                        performance_type=\"time\"\n",
    ")\n",
    "\n",
    "axes[1] = plot_average_transfer_function(axes[1], midi_beats_list,\n",
    "                                        velocity_beats_list, # unperformed_beats_list\n",
    "                                        perf_velocity_beats_list,\n",
    "                                        perf_velocity_beats_estimated_list_dict,\n",
    "                                        performance_type=\"velocity\"\n",
    ")\n",
    "plt.savefig(\"plots/task_A.pdf\", dpi=600)"
   ]
  },
  {
   "cell_type": "markdown",
   "id": "c2dbfa2a",
   "metadata": {},
   "source": [
    "# Task B\n",
    "\n",
    "Use `src.data.get_events_table_from_score`"
   ]
  },
  {
   "cell_type": "code",
   "execution_count": null,
   "id": "73540bcc-ba29-4f24-9434-be990434cc00",
   "metadata": {},
   "outputs": [],
   "source": [
    "from pathlib import Path\n",
    "# We analyse Beethoven Sonatas\n",
    "corpus = DATASET_PATH / \"Beethoven\" / \"Piano_Sonatas\""
   ]
  },
  {
   "cell_type": "code",
   "execution_count": null,
   "id": "f1e04bc5",
   "metadata": {},
   "outputs": [],
   "source": [
    "\n",
    "unique_signatures = list_all_time_signatures(corpus)\n",
    "sigs = [\n",
    "    ((4,4), 4),\n",
    "    ((3,4), 4),\n",
    "    ((6,8), 2)\n",
    "]\n",
    "\n",
    "results = [(get_average_distribution_given_time_signature(corpus, sig[0], sig[1]), sig[0]) for sig in sigs]"
   ]
  },
  {
   "cell_type": "code",
   "execution_count": null,
   "id": "a57dfca2",
   "metadata": {},
   "outputs": [],
   "source": [
    "plot_beat_frequencies(results, figsize=(16, 4))\n",
    "plt.savefig(\"plots/beethov_combined.pdf\", dpi=600)"
   ]
  },
  {
   "cell_type": "code",
   "execution_count": null,
   "id": "b7503251",
   "metadata": {},
   "outputs": [],
   "source": [
    "styles = [\"Baroque\", \"Classical\", \"Romantism\", \"Impressionism\", \"20th Century Russian\"]\n",
    "styles_composers = [baroque_composers, classical_composers, romantic_composers, impressionist_composers, late_russian_composers]\n",
    "composers = []\n",
    "for style_composers in styles_composers:\n",
    "    composers.extend(style_composers)\n",
    "expr_by_composer = composer_expressiveness_analysis(composers)\n",
    "expr_by_style = style_expressiveness_analysis(styles_composers)\n"
   ]
  },
  {
   "cell_type": "code",
   "execution_count": null,
   "id": "6989840d",
   "metadata": {},
   "outputs": [],
   "source": [
    "plot_composer_and_style(composers, styles, expr_by_composer, expr_by_style)"
   ]
  },
  {
   "cell_type": "code",
   "execution_count": null,
   "id": "799b9140",
   "metadata": {},
   "outputs": [],
   "source": [
    "for time_signature in [(4,4), (3,4), (6,8)]:\n",
    "    beat = time_signature[0]\n",
    "    bar = time_signature[1]\n",
    "    pieces = collect_pieces_with_time_signature(corpus, [beat, bar])\n",
    "    beat_deviations = combine_beat_deviations(pieces, beat)\n",
    "    plot_violins(beat_deviations, f'Beethoven Piano Sonatas {time_signature}', (-100, 100))\n",
    "    "
   ]
  },
  {
   "cell_type": "code",
   "execution_count": null,
   "id": "a9adeb56",
   "metadata": {},
   "outputs": [],
   "source": [
    "# Check where high deviation values (>2) are coming from\n",
    "# for piece in pieces:\n",
    "#     interval = annotation_to_inter_onset_intervals(piece)\n",
    "#     deviation = (interval - interval.median())/interval.median()\n",
    "#     if sum(deviation[deviation > 2]):\n",
    "#         print(piece.split('/')[-4:])\n",
    "#         print(deviation[deviation > 2])\n",
    "#         input('press enter to continue')\n",
    "\n",
    "        "
   ]
  },
  {
   "cell_type": "code",
   "execution_count": null,
   "id": "934404a1",
   "metadata": {},
   "outputs": [],
   "source": [
    "pieces = collect_pieces_with_time_signature(corpus, [4, 4])\n",
    "beat_deviations = combine_beat_deviations(pieces, beat)"
   ]
  },
  {
   "cell_type": "code",
   "execution_count": null,
   "id": "8a2add3b",
   "metadata": {},
   "outputs": [],
   "source": [
    "beat_deviations[beat_deviations['Beat']==0]['Deviation'].median()\n",
    "beat_deviations[beat_deviations['Beat']==1]['Deviation'].median()"
   ]
  },
  {
   "cell_type": "code",
   "execution_count": null,
   "id": "3742bf90",
   "metadata": {},
   "outputs": [],
   "source": [
    "import seaborn\n",
    "seaborn.set_style(\"whitegrid\")\n",
    "\n",
    "fig, axes = plt.subplots(1, 3, figsize=(12, 4)) # think about figsize\n",
    "for time_signature, axes in zip([(4,4), (3,4), (6,8)], axes):\n",
    "    beat = time_signature[0]\n",
    "    bar = time_signature[1]\n",
    "    pieces = collect_pieces_with_time_signature(corpus, [beat, bar])\n",
    "    beat_deviations = combine_beat_deviations(pieces, beat)\n",
    "    plot_violins(beat_deviations, f'Time signature{time_signature}', (-100, 100), axes)\n",
    "\n",
    "#fig.suptitle('IOI Deviations by Time Signature for Beetoven Piano Sonatas',y=1.05)\n",
    "fig.tight_layout()\n",
    "plt.savefig(\"plots/violin_plots.pdf\", dpi=600)"
   ]
  }
 ],
 "metadata": {
  "kernelspec": {
   "display_name": "Python 3 (ipykernel)",
   "language": "python",
   "name": "python3"
  },
  "language_info": {
   "codemirror_mode": {
    "name": "ipython",
    "version": 3
   },
   "file_extension": ".py",
   "mimetype": "text/x-python",
   "name": "python",
   "nbconvert_exporter": "python",
   "pygments_lexer": "ipython3",
   "version": "3.9.7"
  }
 },
 "nbformat": 4,
 "nbformat_minor": 5
}
